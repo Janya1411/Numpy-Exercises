{
 "cells": [
  {
   "cell_type": "markdown",
   "metadata": {},
   "source": [
    "# Pandas Exercises"
   ]
  },
  {
   "cell_type": "markdown",
   "metadata": {},
   "source": [
    "<b> We will try to imitate the real world scenario. The dataset which we are using is US Presidential election 2016 funding dataset.\n",
    "You are try through two methods :\n",
    "\n",
    "Step 1. Go through [official government website](https://classic.fec.gov/disclosurep/PDownload.do)</b>\n",
    "\n",
    "<b> Step 2. Complete data is 1.2GB, so it will take some time for this to complete download.</b>\n",
    "\n",
    "<b> Step 3. Unzip the file where you have this jupyter notebook </b>\n",
    "<b> In case, this <u>does not work for you</u></b>\n",
    "\n",
    "<b> Follow this link , where we have uploaded sample data from the same dataset.[LINK](https://raw.githubusercontent.com/Sketchjar/Datasets/master/us_elections_sample.csv)</b>\n",
    "\n",
    "#### Good Luck!"
   ]
  },
  {
   "cell_type": "markdown",
   "metadata": {},
   "source": [
    "####  Import Necessary Libraries (i.e. Numpy & Pandas)"
   ]
  },
  {
   "cell_type": "code",
   "execution_count": null,
   "metadata": {},
   "outputs": [],
   "source": []
  },
  {
   "cell_type": "markdown",
   "metadata": {},
   "source": [
    "#### Question 1: Create a dataframe named df"
   ]
  },
  {
   "cell_type": "code",
   "execution_count": null,
   "metadata": {},
   "outputs": [],
   "source": []
  },
  {
   "cell_type": "markdown",
   "metadata": {},
   "source": [
    "#### Question 2:  Check the head of dataframe (df). Notice anything wrong with columns name! Correct it!"
   ]
  },
  {
   "cell_type": "code",
   "execution_count": null,
   "metadata": {},
   "outputs": [],
   "source": []
  },
  {
   "cell_type": "code",
   "execution_count": null,
   "metadata": {},
   "outputs": [],
   "source": []
  },
  {
   "cell_type": "markdown",
   "metadata": {},
   "source": [
    "#### Question 3:Check the tail of dataframe( df)"
   ]
  },
  {
   "cell_type": "code",
   "execution_count": null,
   "metadata": {},
   "outputs": [],
   "source": []
  },
  {
   "cell_type": "markdown",
   "metadata": {},
   "source": [
    "#### Question 4: What is the shape of the dataframe?"
   ]
  },
  {
   "cell_type": "code",
   "execution_count": null,
   "metadata": {},
   "outputs": [],
   "source": []
  },
  {
   "cell_type": "markdown",
   "metadata": {},
   "source": [
    "#### Question 5: What are the number of columns in the dataframe?"
   ]
  },
  {
   "cell_type": "code",
   "execution_count": null,
   "metadata": {},
   "outputs": [],
   "source": []
  },
  {
   "cell_type": "markdown",
   "metadata": {},
   "source": [
    "#### Question 5.1 : Run descriptives statistics on the dataframe.. Hint: df.describe ( )"
   ]
  },
  {
   "cell_type": "code",
   "execution_count": null,
   "metadata": {},
   "outputs": [],
   "source": []
  },
  {
   "cell_type": "code",
   "execution_count": null,
   "metadata": {},
   "outputs": [],
   "source": []
  },
  {
   "cell_type": "markdown",
   "metadata": {},
   "source": [
    "#### Question 6: Clean the data"
   ]
  },
  {
   "cell_type": "markdown",
   "metadata": {},
   "source": [
    "#### Question 6.1 .. Change the state name, by using following dictionary"
   ]
  },
  {
   "cell_type": "code",
   "execution_count": null,
   "metadata": {},
   "outputs": [],
   "source": [
    "contbr_st_dict = {\n",
    "'AL': 'Alabama', 'AK':'Alaska', 'AZ':'Arizona', 'AR':'Arkansas', 'AA': 'Armed Forces America','AE': 'Armed Forces Europe',\n",
    "'AP' : 'Armed Forces Pacific','CA' : 'California', 'CO': 'Colorado', 'CT': 'Connecticut', 'DE': 'Delaware', 'DC' : 'District of Columbia', \n",
    "'FL': 'Florida', 'GA' : 'Georgia', 'HI' :'Hawaii', 'ID':'Idaho', 'IL': 'Illinois', 'IN' :'Indiana', 'IA':'Iowa', \n",
    "'KS':'Kansas', 'KY':'Kentucky', 'LA':'Louisiana', 'ME':'Maine', 'MD':'Maryland', 'MA':'Massachetts', 'MI': 'Michigan', 'MN': 'Minnesota', \n",
    "'MS': 'Mississippi', 'MO':'Missouri', 'MT':'Montana', 'NE':'Nebraska', 'NV':'Nevada', 'NH':'New Hampshire', \n",
    "'NJ': 'New Jersey', 'NM':'New Mexico', 'NY':'New York', 'NC':'North Carolina', 'ND':'North Dakota', 'OH':'Ohio', \n",
    "'OK':'Oklahoma', 'OR':'Oregon', 'PA':'Pennsylvania', 'RI':'Rhode Island', 'SC':'South Carolina', 'SD':'South Dakota', \n",
    "'TN':'Tennessee', 'TX':'Texas', 'UT':'Utah', 'VT':'Vermont', 'VA':'Virginia', 'WA':'Washington', 'WV':'West Virginia', \n",
    "'WI':'Wisconsin', 'WY':'Wyoming'} "
   ]
  },
  {
   "cell_type": "markdown",
   "metadata": {},
   "source": [
    "#### Question 6.1.a Apply the change to column contbr_st"
   ]
  },
  {
   "cell_type": "code",
   "execution_count": null,
   "metadata": {},
   "outputs": [],
   "source": []
  },
  {
   "cell_type": "markdown",
   "metadata": {},
   "source": [
    "#### Question 6.2 Change the name of candidate, by using the following dictionary"
   ]
  },
  {
   "cell_type": "code",
   "execution_count": null,
   "metadata": {},
   "outputs": [],
   "source": [
    "candidate_dict_name = {'Clinton, Hillary Rodham':'clinton','Trump, Donald J.':'trump','Sanders, Bernard':'sanders',\"Cruz, Rafael Edward 'Ted'\":'cruz',\n",
    "            'Bush, Jeb':'bush','Rubio, Marco':'rubio','Carson, Benjamin S.':'carson','Kasich, John R.':'kasich','Christie, Christopher J.':'christie',\n",
    "            'Fiorina, Carly':'fiorina','Paul, Rand':'paul','Walker, Scott':'walker',\"O'Malley, Martin Joseph\":\"omalley\",'Graham, Lindsey O.':'graham',\n",
    "            'Johnson, Gary':'johnson','Stein, Jill':'stein','Huckabee, Mike':'huckabee','Jindal, Bobby':'jindal','Perry, James R. (Rick)':'perry',\n",
    "            'Santorum, Richard J.':'santorum','Lessig, Lawrence':'lessig','McMullin, Evan':'mcmullin','Pataki, George E.':'pataki',\n",
    "            'Webb, James Henry Jr.':'webb','Gilmore, James S III':'gilmore'}"
   ]
  },
  {
   "cell_type": "markdown",
   "metadata": {},
   "source": [
    "#### Question 6.2b Apply the dictionary to column cand_nm"
   ]
  },
  {
   "cell_type": "code",
   "execution_count": null,
   "metadata": {},
   "outputs": [],
   "source": []
  },
  {
   "cell_type": "markdown",
   "metadata": {},
   "source": [
    "#### Question 6.3 convert all columns into lowercase strings"
   ]
  },
  {
   "cell_type": "code",
   "execution_count": null,
   "metadata": {},
   "outputs": [],
   "source": []
  },
  {
   "cell_type": "code",
   "execution_count": null,
   "metadata": {},
   "outputs": [],
   "source": []
  },
  {
   "cell_type": "markdown",
   "metadata": {},
   "source": [
    "#### Question 6.4 drop (cand_id, blank,election_tp,'receipt_desc','memo_cd','memo_text') columns as they little or no meaning for our analysis"
   ]
  },
  {
   "cell_type": "code",
   "execution_count": null,
   "metadata": {},
   "outputs": [],
   "source": []
  },
  {
   "cell_type": "code",
   "execution_count": null,
   "metadata": {},
   "outputs": [],
   "source": []
  },
  {
   "cell_type": "markdown",
   "metadata": {},
   "source": [
    "#### Question 6.5 Convert the 'contb_receipt_dt' column into datetime column"
   ]
  },
  {
   "cell_type": "code",
   "execution_count": null,
   "metadata": {},
   "outputs": [],
   "source": []
  },
  {
   "cell_type": "code",
   "execution_count": null,
   "metadata": {},
   "outputs": [],
   "source": []
  },
  {
   "cell_type": "markdown",
   "metadata": {},
   "source": [
    "#### Question 6.5a. Take out Year/Month/day from 'contb_receipt_dt' column after step 6.5 has been completed."
   ]
  },
  {
   "cell_type": "code",
   "execution_count": null,
   "metadata": {},
   "outputs": [],
   "source": []
  },
  {
   "cell_type": "code",
   "execution_count": null,
   "metadata": {},
   "outputs": [],
   "source": []
  },
  {
   "cell_type": "code",
   "execution_count": null,
   "metadata": {},
   "outputs": [],
   "source": []
  },
  {
   "cell_type": "markdown",
   "metadata": {},
   "source": [
    "#### Question 6.6 Map candidates with their particular parties using dictionary given below"
   ]
  },
  {
   "cell_type": "code",
   "execution_count": null,
   "metadata": {},
   "outputs": [],
   "source": [
    "dict_party = {'clinton':'democrat','trump':'republican','sanders':'democrat','cruz':'republican',\n",
    "            'bush':'republican','rubio':'republican','carson':'republican','kasich':'republican','christie':'republican',\n",
    "            'fiorina':'republican','paul':'republican','walker':'republican',\"omalley\":'democrat','graham':'republican',\n",
    "            'johnson':'libertarian','stein':'green_party','huckabee':'republican','jindal':'republican','perry':'republican',\n",
    "            'santorum':'republican','lessig':'democrat','mcmullin':'independent','pataki':'republican',\n",
    "            'webb':'democrat','gilmore':'republican'}"
   ]
  },
  {
   "cell_type": "code",
   "execution_count": null,
   "metadata": {},
   "outputs": [],
   "source": []
  },
  {
   "cell_type": "code",
   "execution_count": null,
   "metadata": {},
   "outputs": [],
   "source": []
  },
  {
   "cell_type": "markdown",
   "metadata": {},
   "source": [
    "#### Question 7 . What is the amount received by each candidate?"
   ]
  },
  {
   "cell_type": "code",
   "execution_count": null,
   "metadata": {},
   "outputs": [],
   "source": []
  },
  {
   "cell_type": "markdown",
   "metadata": {},
   "source": [
    "#### Question 8. What is the highest contribution received by clinton?"
   ]
  },
  {
   "cell_type": "code",
   "execution_count": null,
   "metadata": {},
   "outputs": [],
   "source": []
  },
  {
   "cell_type": "code",
   "execution_count": null,
   "metadata": {},
   "outputs": [],
   "source": []
  },
  {
   "cell_type": "markdown",
   "metadata": {},
   "source": [
    "#### Question 8.1 What is the minimum contribution received by clinton?"
   ]
  },
  {
   "cell_type": "code",
   "execution_count": null,
   "metadata": {},
   "outputs": [],
   "source": []
  },
  {
   "cell_type": "markdown",
   "metadata": {},
   "source": [
    "#### Question 8.2 What is the average contribution received by clinton?"
   ]
  },
  {
   "cell_type": "code",
   "execution_count": null,
   "metadata": {},
   "outputs": [],
   "source": []
  },
  {
   "cell_type": "markdown",
   "metadata": {},
   "source": [
    "#### Question 9. Which state has provided highest contribution to Donald Trump?"
   ]
  },
  {
   "cell_type": "code",
   "execution_count": null,
   "metadata": {},
   "outputs": [],
   "source": []
  },
  {
   "cell_type": "code",
   "execution_count": null,
   "metadata": {},
   "outputs": [],
   "source": []
  },
  {
   "cell_type": "markdown",
   "metadata": {},
   "source": [
    "#### Question 10. What is the percentage contribution by hillary and trump?"
   ]
  },
  {
   "cell_type": "code",
   "execution_count": null,
   "metadata": {},
   "outputs": [],
   "source": []
  },
  {
   "cell_type": "code",
   "execution_count": null,
   "metadata": {},
   "outputs": [],
   "source": []
  },
  {
   "cell_type": "code",
   "execution_count": null,
   "metadata": {},
   "outputs": [],
   "source": []
  },
  {
   "cell_type": "code",
   "execution_count": null,
   "metadata": {},
   "outputs": [],
   "source": []
  },
  {
   "cell_type": "markdown",
   "metadata": {},
   "source": [
    "#### Question 11. Which city provided maximum campaign contribution to clinton and trump respectively?"
   ]
  },
  {
   "cell_type": "code",
   "execution_count": null,
   "metadata": {},
   "outputs": [],
   "source": []
  },
  {
   "cell_type": "code",
   "execution_count": null,
   "metadata": {},
   "outputs": [],
   "source": []
  },
  {
   "cell_type": "markdown",
   "metadata": {},
   "source": [
    "#### Question 12: What is occupation of people who contributed to clinton and trump? Hint: You have to clean the data first. Use the dictionary given below"
   ]
  },
  {
   "cell_type": "code",
   "execution_count": null,
   "metadata": {},
   "outputs": [],
   "source": [
    "occ_dict = {'retired':'retired','not employed':'not employed','information requested':'information requested',\n",
    "            'attorney':'self employed','teacher':'salaried','physician':'salaried','homemaker':'homemaker','professor':'salaried',\n",
    "           'consultant':'salaried','engineer':'salaried','sales':'salaried','lawyer':'self employed','manager':'salaried','software engineer':'salaried',\n",
    "           'writer':'self employed','information requested per best efforts':'information requested','student':'student',\n",
    "           'registered nurse':'salaried','self employed':'self employed','artist':'self employed','owner':'self employed',\n",
    "           'ceo':'salaried','business owner':'self employed','rn':'salaried','educator':'salaried','accountant':'self employed',\n",
    "           'president':'salaried','psychologist':'self employed','realtor':'self employed','social worker':'self employed',\n",
    "           'executive':'salaried','marketing':'salaried','self-employed':'self employed','project manager':'self employed',\n",
    "           'real estate':'self employed','director':'self employed','nurse':'self employed','software developer':'self employed',\n",
    "           'musician':'self employed','architect':'self employed','administrator':'salaried','scientist':'salaried',\n",
    "           'office manager':'salaried','designer':'self employed','disabled':'self employed','conduit total listed in agg. field':'self employed',\n",
    "           'cpa':'self employed','analyst':'salaried','psychotherapist':'self employed','farmer':'self employed','librarian':'salaried',\n",
    "           'pharmacist':'salaried','executive director':'salaried','programmer':'self employed','none':'self employed','truck driver':'self employed',\n",
    "        'editor':'salaried','paralegal':'salaried','nurse practitioner':'salaried','contractor':'self employed'}"
   ]
  },
  {
   "cell_type": "code",
   "execution_count": null,
   "metadata": {},
   "outputs": [],
   "source": []
  },
  {
   "cell_type": "code",
   "execution_count": null,
   "metadata": {},
   "outputs": [],
   "source": []
  },
  {
   "cell_type": "code",
   "execution_count": null,
   "metadata": {},
   "outputs": [],
   "source": []
  },
  {
   "cell_type": "markdown",
   "metadata": {},
   "source": [
    "#### Question 13: Were there any refunds which people sought from candidates? Check for Clinton and Trump."
   ]
  },
  {
   "cell_type": "code",
   "execution_count": null,
   "metadata": {},
   "outputs": [],
   "source": []
  },
  {
   "cell_type": "code",
   "execution_count": null,
   "metadata": {},
   "outputs": [],
   "source": []
  },
  {
   "cell_type": "code",
   "execution_count": null,
   "metadata": {},
   "outputs": [],
   "source": []
  },
  {
   "cell_type": "markdown",
   "metadata": {},
   "source": [
    "#### Question 14: Make your own questions"
   ]
  },
  {
   "cell_type": "markdown",
   "metadata": {},
   "source": [
    "If you like the questions, please feel free to expand this dataset further. As stated during the course, practice will help you improve your skills further."
   ]
  },
  {
   "cell_type": "code",
   "execution_count": null,
   "metadata": {},
   "outputs": [],
   "source": []
  },
  {
   "cell_type": "code",
   "execution_count": null,
   "metadata": {},
   "outputs": [],
   "source": []
  },
  {
   "cell_type": "markdown",
   "metadata": {},
   "source": [
    "### Great Job!"
   ]
  },
  {
   "cell_type": "markdown",
   "metadata": {},
   "source": [
    "###### Please note that this notebook is only for educational purposes"
   ]
  },
  {
   "cell_type": "code",
   "execution_count": null,
   "metadata": {},
   "outputs": [],
   "source": []
  }
 ],
 "metadata": {
  "kernelspec": {
   "display_name": "Python 3",
   "language": "python",
   "name": "python3"
  },
  "language_info": {
   "codemirror_mode": {
    "name": "ipython",
    "version": 3
   },
   "file_extension": ".py",
   "mimetype": "text/x-python",
   "name": "python",
   "nbconvert_exporter": "python",
   "pygments_lexer": "ipython3",
   "version": "3.6.5"
  }
 },
 "nbformat": 4,
 "nbformat_minor": 2
}
